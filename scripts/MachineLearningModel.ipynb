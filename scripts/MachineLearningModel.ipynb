{
 "cells": [
  {
   "cell_type": "markdown",
   "metadata": {},
   "source": [
    "# City Couriers Fleet Churn Report"
   ]
  },
  {
   "cell_type": "markdown",
   "metadata": {},
   "source": [
    "# Machine-Learning Model Report"
   ]
  },
  {
   "cell_type": "markdown",
   "metadata": {},
   "source": [
    "Author: Guilherme Fernandes Ribeiro"
   ]
  },
  {
   "cell_type": "markdown",
   "metadata": {},
   "source": [
    "# Executive Summary"
   ]
  },
  {
   "cell_type": "markdown",
   "metadata": {},
   "source": [
    "<li>From the 20 possible features in the dataset, 9 were selected for the training phase.</li><br><br>\n",
    "\n",
    "<li>The SVM algorithm was selected among all the classification algorithm tested.</li><br><br>\n",
    "\n",
    "<li>The SVM algorithm was the best in accuracy (77.17%), kappa (0.54) and false-negative metrics.</li><br><br>"
   ]
  },
  {
   "cell_type": "markdown",
   "metadata": {},
   "source": [
    "# Machine-Learning Model"
   ]
  },
  {
   "cell_type": "markdown",
   "metadata": {},
   "source": [
    "This report uses 3 private python libraries written by the author called \"courier_data_manager\", \"data_visualization_util\" and \"modeling_helper\". All the documentation needed is inside the libraries script files that can be found in the \"scripts\" folder of this project."
   ]
  },
  {
   "cell_type": "code",
   "execution_count": 1,
   "metadata": {},
   "outputs": [],
   "source": [
    "#Importing libraries\n",
    "\n",
    "import pandas as pd\n",
    "import numpy as np\n",
    "import pandas_profiling\n",
    "\n",
    "import matplotlib.pyplot as plt\n",
    "import seaborn as sns\n",
    "\n",
    "import courier_data_manager as cdm\n",
    "import data_visualization_util as dvu\n",
    "import modeling_helper as mh\n",
    "\n",
    "from sklearn import preprocessing\n",
    "\n",
    "from sklearn.model_selection import train_test_split\n",
    "from sklearn.model_selection import cross_val_score\n",
    "from sklearn.model_selection import RandomizedSearchCV\n",
    "from sklearn.model_selection import GridSearchCV\n",
    "\n",
    "from sklearn.ensemble import RandomForestClassifier\n",
    "from sklearn.svm import SVC\n",
    "from sklearn.neighbors import KNeighborsClassifier\n",
    "\n",
    "from sklearn.metrics import accuracy_score\n",
    "from sklearn.metrics import cohen_kappa_score\n",
    "from sklearn.metrics import confusion_matrix"
   ]
  },
  {
   "cell_type": "markdown",
   "metadata": {},
   "source": [
    "# Loading the data"
   ]
  },
  {
   "cell_type": "code",
   "execution_count": 2,
   "metadata": {},
   "outputs": [],
   "source": [
    "courier_life_data_path = \"../datasets/Courier_lifetime_data.csv\"\n",
    "courier_weekly_data_path = \"../datasets/Courier_weekly_data.csv\"\n",
    "\n",
    "courier_life_data = pd.read_csv(courier_life_data_path, header = 0, index_col = 0)\n",
    "courier_weekly_data = pd.read_csv(courier_weekly_data_path, header = 0)"
   ]
  },
  {
   "cell_type": "code",
   "execution_count": 3,
   "metadata": {},
   "outputs": [],
   "source": [
    "#Constants\n",
    "churnWeeks = [9, 10, 11]\n",
    "weeksToRemove = [8, 9, 10, 11]"
   ]
  },
  {
   "cell_type": "markdown",
   "metadata": {},
   "source": [
    "# Prepare data for modeling"
   ]
  },
  {
   "cell_type": "markdown",
   "metadata": {},
   "source": [
    "To prepare the data for the training phase, a few steps were made for processing the courier's lifetime and courier's weekly activity data.\n",
    "\n",
    "First, all the couriers present in the \"courier_lifetime_data.csv\" were labeled as 'Not Churned' or 'Churned' by checking if the courier had any activity in the churn window (weeks 9, 10 and 11).\n",
    "\n",
    "After labeling, the weeks 8, 9, 10 and 11 were removed from the \"courier_weekly_data.csv\" dataset. Remaining only the weeks from 0 to 7, which are the period of analysis.\n",
    "\n",
    "Then, the feature 'weeks_worked' was created by counting how many weeks each courier has worked during the period of analysis.\n",
    "\n",
    "Since the weekly activity dataset could have many rows for each courier, in order to make a classification regarding the courier's activity for the following weeks, is necessary to summarize the data.\n",
    "For the summarizing strategy for this modeling, all the data of each courier was summed up. Since the majority of the features are unknown, summing makes more sense than any other aggregation function.\n",
    "\n",
    "After summarize, the column 'week' was dropped. Since it has no meaning after being summarized.\n",
    "\n",
    "The categorical 'feature_1' from the \"courier_lifetime_data\" was transformed to numerical and added to the dataset.\n",
    "\n",
    "In the end, the label column was added.\n",
    "\n",
    "It is also possible to check the function 'prepare_data_for_modeling' inside the \"courier_data_manager\" library for better technical understanding."
   ]
  },
  {
   "cell_type": "code",
   "execution_count": 4,
   "metadata": {},
   "outputs": [],
   "source": [
    "data_modeling = cdm.prepare_data_for_modeling(courier_life_data, courier_weekly_data, weeksToRemove, churnWeeks)"
   ]
  },
  {
   "cell_type": "markdown",
   "metadata": {},
   "source": [
    "## Correlation matrix"
   ]
  },
  {
   "cell_type": "markdown",
   "metadata": {},
   "source": [
    "The correlation matrix was calculated to check possible collinearity between the features in the dataset.\n",
    "\n",
    "A pairwise visualization of the highest values is shown below."
   ]
  },
  {
   "cell_type": "code",
   "execution_count": 5,
   "metadata": {},
   "outputs": [
    {
     "name": "stdout",
     "output_type": "stream",
     "text": [
      "      Attribute_1 Attribute_2     Value\n",
      "159  weeks_worked   feature_6  0.994574\n",
      "158  weeks_worked   feature_5  0.994103\n",
      "20      feature_6   feature_5  0.990100\n",
      "71     feature_12   feature_5  0.986565\n",
      "165  weeks_worked  feature_12  0.984803\n",
      "100    feature_14   feature_9  0.984373\n",
      "72     feature_12   feature_6  0.979649\n",
      "41      feature_9   feature_5  0.979005\n",
      "50     feature_10   feature_5  0.968638\n",
      "58     feature_11   feature_3  0.967222\n",
      "42      feature_9   feature_6  0.965971\n",
      "163  weeks_worked  feature_10  0.965484\n",
      "162  weeks_worked   feature_9  0.965375\n",
      "75     feature_12   feature_9  0.960157\n",
      "76     feature_12  feature_10  0.959328\n",
      "96     feature_14   feature_5  0.958835\n",
      "51     feature_10   feature_6  0.956634\n",
      "166  weeks_worked  feature_13  0.955251\n",
      "90     feature_13  feature_12  0.955069\n",
      "84     feature_13   feature_6  0.950983\n",
      "97     feature_14   feature_6  0.950579\n",
      "167  weeks_worked  feature_14  0.949864\n",
      "54     feature_10   feature_9  0.947150\n",
      "83     feature_13   feature_5  0.946756\n",
      "86     feature_13   feature_8  0.939686\n",
      "168  weeks_worked  feature_15  0.937332\n",
      "101    feature_14  feature_10  0.931005\n",
      "110    feature_15   feature_5  0.930581\n",
      "103    feature_14  feature_12  0.929519\n",
      "111    feature_15   feature_6  0.929508\n",
      "117    feature_15  feature_12  0.928908\n",
      "5       feature_3   feature_2  0.925754\n",
      "115    feature_15  feature_10  0.919407\n",
      "88     feature_13  feature_10  0.913459\n",
      "114    feature_15   feature_9  0.912718\n",
      "57     feature_11   feature_2  0.910464\n",
      "119    feature_15  feature_14  0.900663\n",
      "123    feature_16   feature_3  0.895858\n",
      "87     feature_13   feature_9  0.895397\n",
      "118    feature_15  feature_13  0.892411\n",
      "161  weeks_worked   feature_8  0.885241\n",
      "131    feature_16  feature_11  0.876638\n",
      "74     feature_12   feature_8  0.873650\n",
      "33      feature_8   feature_5  0.869201\n",
      "34      feature_8   feature_6  0.868102\n",
      "156  weeks_worked   feature_3  0.863509\n",
      "122    feature_16   feature_2  0.863274\n",
      "18      feature_6   feature_3  0.862680\n",
      "104    feature_14  feature_13  0.854257\n",
      "65     feature_11  feature_10  0.850275\n"
     ]
    }
   ],
   "source": [
    "corrMatrix = data_modeling.corr()\n",
    "pairWiseCorrMatrix = dvu.pairwiseCorr(corrMatrix)\n",
    "attr1 = pairWiseCorrMatrix['Attribute_1']\n",
    "attr2 = pairWiseCorrMatrix['Attribute_2']\n",
    "\n",
    "print(pairWiseCorrMatrix[pairWiseCorrMatrix.Value >= 0.85])"
   ]
  },
  {
   "cell_type": "markdown",
   "metadata": {},
   "source": [
    "## Selecting the dependent and independent variable"
   ]
  },
  {
   "cell_type": "code",
   "execution_count": 6,
   "metadata": {},
   "outputs": [],
   "source": [
    "dataFeatures = data_modeling.drop('churned', axis = 1)\n",
    "dataTarget = data_modeling.loc[:, 'churned']"
   ]
  },
  {
   "cell_type": "markdown",
   "metadata": {},
   "source": [
    "## Spliting into training and test set"
   ]
  },
  {
   "cell_type": "markdown",
   "metadata": {},
   "source": [
    "For this report, the dataset was split as follows: 70% for the training set and 30% for the test set.\n",
    "As the dataset does not have many rows, there is no need to sample the data for speed the training time up."
   ]
  },
  {
   "cell_type": "code",
   "execution_count": 7,
   "metadata": {},
   "outputs": [],
   "source": [
    "x_train, x_test, y_train, y_test = train_test_split(dataFeatures, dataTarget, \n",
    "                                                    stratify = dataTarget, test_size = 0.3, random_state = 0)"
   ]
  },
  {
   "cell_type": "markdown",
   "metadata": {},
   "source": [
    "## Base model"
   ]
  },
  {
   "cell_type": "markdown",
   "metadata": {},
   "source": [
    "To have an idea of how this dataset behaves, an out-of-the-shelf model was built.\n",
    "By building a random forest model, we can check for the importance of the variables after the training for future feature selection phase."
   ]
  },
  {
   "cell_type": "code",
   "execution_count": 8,
   "metadata": {},
   "outputs": [],
   "source": [
    "rf = RandomForestClassifier(n_estimators = 100, random_state = 123)"
   ]
  },
  {
   "cell_type": "code",
   "execution_count": 9,
   "metadata": {},
   "outputs": [
    {
     "name": "stdout",
     "output_type": "stream",
     "text": [
      "    CV-Mean     CV-Sd\n",
      "0  0.733333  0.032457\n"
     ]
    }
   ],
   "source": [
    "rfCVScore = mh.cvScores(rf, x_train, y_train, 5)\n",
    "print(rfCVScore)"
   ]
  },
  {
   "cell_type": "code",
   "execution_count": 10,
   "metadata": {},
   "outputs": [],
   "source": [
    "# Fitting models\n",
    "rf = rf.fit(x_train, y_train)"
   ]
  },
  {
   "cell_type": "code",
   "execution_count": 11,
   "metadata": {},
   "outputs": [
    {
     "name": "stdout",
     "output_type": "stream",
     "text": [
      "Random Forest accuracy: 0.730594\n",
      "Random Forest kappa: 0.461378\n"
     ]
    }
   ],
   "source": [
    "rfPrediction, accuracy_rf, kappa_rf = mh.classif_predict_metric(rf, x_test, y_test)\n",
    "print('Random Forest accuracy: %.6f' % accuracy_rf)\n",
    "print('Random Forest kappa: %.6f' % kappa_rf)"
   ]
  },
  {
   "cell_type": "markdown",
   "metadata": {},
   "source": [
    "## Variables Importance"
   ]
  },
  {
   "cell_type": "markdown",
   "metadata": {},
   "source": [
    "In the following table is possible to see the most important variables for the random forest classification model."
   ]
  },
  {
   "cell_type": "code",
   "execution_count": 12,
   "metadata": {},
   "outputs": [
    {
     "data": {
      "text/html": [
       "<div>\n",
       "<style scoped>\n",
       "    .dataframe tbody tr th:only-of-type {\n",
       "        vertical-align: middle;\n",
       "    }\n",
       "\n",
       "    .dataframe tbody tr th {\n",
       "        vertical-align: top;\n",
       "    }\n",
       "\n",
       "    .dataframe thead th {\n",
       "        text-align: right;\n",
       "    }\n",
       "</style>\n",
       "<table border=\"1\" class=\"dataframe\">\n",
       "  <thead>\n",
       "    <tr style=\"text-align: right;\">\n",
       "      <th></th>\n",
       "      <th>Variable</th>\n",
       "      <th>Score</th>\n",
       "    </tr>\n",
       "  </thead>\n",
       "  <tbody>\n",
       "    <tr>\n",
       "      <th>11</th>\n",
       "      <td>feature_11</td>\n",
       "      <td>0.082327</td>\n",
       "    </tr>\n",
       "    <tr>\n",
       "      <th>3</th>\n",
       "      <td>feature_3</td>\n",
       "      <td>0.077460</td>\n",
       "    </tr>\n",
       "    <tr>\n",
       "      <th>5</th>\n",
       "      <td>feature_5</td>\n",
       "      <td>0.076364</td>\n",
       "    </tr>\n",
       "    <tr>\n",
       "      <th>9</th>\n",
       "      <td>feature_9</td>\n",
       "      <td>0.075961</td>\n",
       "    </tr>\n",
       "    <tr>\n",
       "      <th>2</th>\n",
       "      <td>feature_2</td>\n",
       "      <td>0.073836</td>\n",
       "    </tr>\n",
       "    <tr>\n",
       "      <th>14</th>\n",
       "      <td>feature_14</td>\n",
       "      <td>0.071280</td>\n",
       "    </tr>\n",
       "    <tr>\n",
       "      <th>1</th>\n",
       "      <td>feature_1</td>\n",
       "      <td>0.068180</td>\n",
       "    </tr>\n",
       "    <tr>\n",
       "      <th>6</th>\n",
       "      <td>feature_6</td>\n",
       "      <td>0.055148</td>\n",
       "    </tr>\n",
       "    <tr>\n",
       "      <th>10</th>\n",
       "      <td>feature_10</td>\n",
       "      <td>0.054454</td>\n",
       "    </tr>\n",
       "    <tr>\n",
       "      <th>0</th>\n",
       "      <td>courier</td>\n",
       "      <td>0.047751</td>\n",
       "    </tr>\n",
       "    <tr>\n",
       "      <th>15</th>\n",
       "      <td>feature_15</td>\n",
       "      <td>0.047445</td>\n",
       "    </tr>\n",
       "    <tr>\n",
       "      <th>12</th>\n",
       "      <td>feature_12</td>\n",
       "      <td>0.044893</td>\n",
       "    </tr>\n",
       "    <tr>\n",
       "      <th>7</th>\n",
       "      <td>feature_7</td>\n",
       "      <td>0.037303</td>\n",
       "    </tr>\n",
       "    <tr>\n",
       "      <th>17</th>\n",
       "      <td>feature_17</td>\n",
       "      <td>0.036934</td>\n",
       "    </tr>\n",
       "    <tr>\n",
       "      <th>13</th>\n",
       "      <td>feature_13</td>\n",
       "      <td>0.036859</td>\n",
       "    </tr>\n",
       "    <tr>\n",
       "      <th>8</th>\n",
       "      <td>feature_8</td>\n",
       "      <td>0.033415</td>\n",
       "    </tr>\n",
       "    <tr>\n",
       "      <th>16</th>\n",
       "      <td>feature_16</td>\n",
       "      <td>0.032850</td>\n",
       "    </tr>\n",
       "    <tr>\n",
       "      <th>4</th>\n",
       "      <td>feature_4</td>\n",
       "      <td>0.030146</td>\n",
       "    </tr>\n",
       "    <tr>\n",
       "      <th>18</th>\n",
       "      <td>weeks_worked</td>\n",
       "      <td>0.012830</td>\n",
       "    </tr>\n",
       "    <tr>\n",
       "      <th>19</th>\n",
       "      <td>life_feature_1</td>\n",
       "      <td>0.004565</td>\n",
       "    </tr>\n",
       "  </tbody>\n",
       "</table>\n",
       "</div>"
      ],
      "text/plain": [
       "          Variable     Score\n",
       "11      feature_11  0.082327\n",
       "3        feature_3  0.077460\n",
       "5        feature_5  0.076364\n",
       "9        feature_9  0.075961\n",
       "2        feature_2  0.073836\n",
       "14      feature_14  0.071280\n",
       "1        feature_1  0.068180\n",
       "6        feature_6  0.055148\n",
       "10      feature_10  0.054454\n",
       "0          courier  0.047751\n",
       "15      feature_15  0.047445\n",
       "12      feature_12  0.044893\n",
       "7        feature_7  0.037303\n",
       "17      feature_17  0.036934\n",
       "13      feature_13  0.036859\n",
       "8        feature_8  0.033415\n",
       "16      feature_16  0.032850\n",
       "4        feature_4  0.030146\n",
       "18    weeks_worked  0.012830\n",
       "19  life_feature_1  0.004565"
      ]
     },
     "execution_count": 12,
     "metadata": {},
     "output_type": "execute_result"
    }
   ],
   "source": [
    "var_imp = pd.DataFrame({'Variable' : data_modeling.drop('churned', axis = 1).columns, \n",
    "                        'Score' : rf.feature_importances_})\n",
    "\n",
    "var_imp.sort_values('Score', ascending = False)"
   ]
  },
  {
   "cell_type": "markdown",
   "metadata": {},
   "source": [
    "## Feature Selection"
   ]
  },
  {
   "cell_type": "markdown",
   "metadata": {},
   "source": [
    "As a feature selection strategy, the most important variables in the table above were selected and those who have high collinearity among each other were discarded.\n",
    "\n",
    "Then, the features selected were: 'feature_11', 'feature_5', 'feature_9', 'feature_1', 'courier', 'feature_7', 'feature_17', 'feature_8' and 'feature_4'\n",
    "\n",
    "It is interesting to notice that the courier column has uncommon importance and was selected. Something unusual for an identification feature. From the Exploratory Analysis Report, we learned that the couriers have a high churn rate. Which we can infer that the couriers which are new to the job are more likely to continue working for the next following weeks rather than the old couriers. So, assuming the courier's id is sequential, the newer the courier, the higher is the id. Therefore, a high identification number could mean that the courier is new, which can be a good way to decide if this courier will churn or not."
   ]
  },
  {
   "cell_type": "code",
   "execution_count": 13,
   "metadata": {},
   "outputs": [],
   "source": [
    "#Features to remove from the dataset\n",
    "features_to_remove = ['feature_2', 'feature_3', 'feature_6', 'feature_10', 'feature_12', 'feature_13', 'feature_14', \n",
    "                      'feature_15', 'feature_16', 'weeks_worked', 'life_feature_1']"
   ]
  },
  {
   "cell_type": "code",
   "execution_count": 14,
   "metadata": {},
   "outputs": [],
   "source": [
    "x_train_fs = mh.featureSelection(x_train, features_to_remove)\n",
    "x_test_fs = mh.featureSelection(x_test, features_to_remove)"
   ]
  },
  {
   "cell_type": "markdown",
   "metadata": {},
   "source": [
    "## Checking base model after feature selection"
   ]
  },
  {
   "cell_type": "code",
   "execution_count": 15,
   "metadata": {},
   "outputs": [
    {
     "name": "stdout",
     "output_type": "stream",
     "text": [
      "    CV-Mean    CV-Sd\n",
      "0  0.739216  0.04047\n"
     ]
    }
   ],
   "source": [
    "rf = RandomForestClassifier(n_estimators = 100, random_state = 123)\n",
    "rf_fs_CVScore = mh.cvScores(rf, x_train_fs, y_train, 5)\n",
    "print(rf_fs_CVScore)"
   ]
  },
  {
   "cell_type": "code",
   "execution_count": 16,
   "metadata": {},
   "outputs": [],
   "source": [
    "# Fitting models\n",
    "rf = rf.fit(x_train_fs, y_train)"
   ]
  },
  {
   "cell_type": "code",
   "execution_count": 17,
   "metadata": {},
   "outputs": [
    {
     "name": "stdout",
     "output_type": "stream",
     "text": [
      "Random Forest accuracy: 0.712329\n",
      "Random Forest kappa: 0.424670\n"
     ]
    }
   ],
   "source": [
    "rf_fs_Prediction, accuracy_rf_fs, kappa_rf_fs = mh.classif_predict_metric(rf, x_test_fs, y_test)\n",
    "print('Random Forest accuracy: %.6f' % accuracy_rf_fs)\n",
    "print('Random Forest kappa: %.6f' % kappa_rf_fs)"
   ]
  },
  {
   "cell_type": "markdown",
   "metadata": {},
   "source": [
    "# Hyperparameters Tuning"
   ]
  },
  {
   "cell_type": "markdown",
   "metadata": {},
   "source": [
    "The strategy for the hyperparameters tuning phase is the following:\n",
    "\n",
    "For each algorithm, we create a large set of possible values for each tuning parameter. In the universe of possible combination of these values, randomly, we sample a small set of values and train the algorithm with them. Using a score function, we select the parameters that performed the highest score among all the other parameters sampled. This step gives us an idea of where are the best parameters for this modeling.\n",
    "\n",
    "After having the best parameters from the random search, we create a small set of possible values near each parameter selected in the previous phase. Run the model using all the possible parameters combinations and select the ones that gave us the best score regarding the score function.\n",
    "\n",
    "For simplicity, this work has used the score function built-in inside each algorithm.\n",
    "\n",
    "For parametric algorithms, the dataset was standardized in order to make them work properly."
   ]
  },
  {
   "cell_type": "code",
   "execution_count": 18,
   "metadata": {},
   "outputs": [],
   "source": [
    "# Standardization of data\n",
    "x_train_fs_std = mh.featureStandardization(x_train_fs)\n",
    "x_test_fs_std = mh.featureStandardization(x_test_fs)"
   ]
  },
  {
   "cell_type": "markdown",
   "metadata": {},
   "source": [
    "The following sections show the hyperparameters tuning process.<br>\n",
    "The algorithm selected to participate were: Random Forest, SVM, and K-NN.<br>\n",
    "Another classification algorithm could have been used. However, to make this report shorter, we restricted to those 3 algorithms only."
   ]
  },
  {
   "cell_type": "markdown",
   "metadata": {},
   "source": [
    "## Random Forest"
   ]
  },
  {
   "cell_type": "markdown",
   "metadata": {},
   "source": [
    "### Random Search"
   ]
  },
  {
   "cell_type": "code",
   "execution_count": 21,
   "metadata": {},
   "outputs": [
    {
     "name": "stdout",
     "output_type": "stream",
     "text": [
      "Fitting 3 folds for each of 100 candidates, totalling 300 fits\n"
     ]
    },
    {
     "name": "stderr",
     "output_type": "stream",
     "text": [
      "[Parallel(n_jobs=-1)]: Using backend LokyBackend with 4 concurrent workers.\n",
      "[Parallel(n_jobs=-1)]: Done  33 tasks      | elapsed:   25.5s\n",
      "[Parallel(n_jobs=-1)]: Done 154 tasks      | elapsed:  1.9min\n",
      "[Parallel(n_jobs=-1)]: Done 300 out of 300 | elapsed:  3.7min finished\n"
     ]
    }
   ],
   "source": [
    "rf_params = {'n_estimators' : np.arange(100, 2000, 100), \n",
    "            'max_features' : np.arange(1, len(x_train_fs.columns) + 1, 1), \n",
    "            'max_depth' : np.arange(1, 25, 1)}\n",
    "rf_default = RandomForestClassifier()\n",
    "\n",
    "rf_rand_best_param = mh.performRandomSearch(rf_default, x_train_fs, y_train, rf_params)"
   ]
  },
  {
   "cell_type": "code",
   "execution_count": 22,
   "metadata": {},
   "outputs": [
    {
     "data": {
      "text/plain": [
       "{'n_estimators': 1000, 'max_features': 3, 'max_depth': 18}"
      ]
     },
     "execution_count": 22,
     "metadata": {},
     "output_type": "execute_result"
    }
   ],
   "source": [
    "rf_rand_best_param"
   ]
  },
  {
   "cell_type": "markdown",
   "metadata": {},
   "source": [
    "#### Cross-validation Scores"
   ]
  },
  {
   "cell_type": "code",
   "execution_count": 23,
   "metadata": {},
   "outputs": [],
   "source": [
    "rf_hyp = RandomForestClassifier(n_estimators = 1000, max_features = 3, max_depth = 18, n_jobs = -1, random_state = 123)\n",
    "rf_hyp_CVScores = mh.cvScores(rf_hyp, x_train_fs, y_train, cv = 5)"
   ]
  },
  {
   "cell_type": "code",
   "execution_count": 24,
   "metadata": {},
   "outputs": [
    {
     "data": {
      "text/html": [
       "<div>\n",
       "<style scoped>\n",
       "    .dataframe tbody tr th:only-of-type {\n",
       "        vertical-align: middle;\n",
       "    }\n",
       "\n",
       "    .dataframe tbody tr th {\n",
       "        vertical-align: top;\n",
       "    }\n",
       "\n",
       "    .dataframe thead th {\n",
       "        text-align: right;\n",
       "    }\n",
       "</style>\n",
       "<table border=\"1\" class=\"dataframe\">\n",
       "  <thead>\n",
       "    <tr style=\"text-align: right;\">\n",
       "      <th></th>\n",
       "      <th>CV-Mean</th>\n",
       "      <th>CV-Sd</th>\n",
       "    </tr>\n",
       "  </thead>\n",
       "  <tbody>\n",
       "    <tr>\n",
       "      <th>0</th>\n",
       "      <td>0.754902</td>\n",
       "      <td>0.0232</td>\n",
       "    </tr>\n",
       "  </tbody>\n",
       "</table>\n",
       "</div>"
      ],
      "text/plain": [
       "    CV-Mean   CV-Sd\n",
       "0  0.754902  0.0232"
      ]
     },
     "execution_count": 24,
     "metadata": {},
     "output_type": "execute_result"
    }
   ],
   "source": [
    "rf_hyp_CVScores"
   ]
  },
  {
   "cell_type": "markdown",
   "metadata": {},
   "source": [
    "#### Predictions and Metrics"
   ]
  },
  {
   "cell_type": "code",
   "execution_count": 25,
   "metadata": {},
   "outputs": [],
   "source": [
    "# Fitting model\n",
    "rf_hyp = rf_hyp.fit(x_train_fs, y_train)"
   ]
  },
  {
   "cell_type": "code",
   "execution_count": 26,
   "metadata": {},
   "outputs": [
    {
     "name": "stdout",
     "output_type": "stream",
     "text": [
      "Random Forest accuracy: 0.703196\n",
      "Random Forest kappa: 0.406455\n"
     ]
    }
   ],
   "source": [
    "rf_hyp_Pred, accuracy_rf_hyp, kappa_rf_hyp = mh.classif_predict_metric(rf_hyp, x_test_fs, y_test)\n",
    "print('Random Forest accuracy: %.6f' % accuracy_rf_hyp)\n",
    "print('Random Forest kappa: %.6f' % kappa_rf_hyp)"
   ]
  },
  {
   "cell_type": "markdown",
   "metadata": {},
   "source": [
    "### Grid Search"
   ]
  },
  {
   "cell_type": "code",
   "execution_count": 27,
   "metadata": {},
   "outputs": [
    {
     "name": "stdout",
     "output_type": "stream",
     "text": [
      "Fitting 3 folds for each of 324 candidates, totalling 972 fits\n"
     ]
    },
    {
     "name": "stderr",
     "output_type": "stream",
     "text": [
      "[Parallel(n_jobs=-1)]: Using backend LokyBackend with 4 concurrent workers.\n",
      "[Parallel(n_jobs=-1)]: Done  33 tasks      | elapsed:   20.1s\n",
      "[Parallel(n_jobs=-1)]: Done 154 tasks      | elapsed:  1.7min\n",
      "[Parallel(n_jobs=-1)]: Done 357 tasks      | elapsed:  3.9min\n",
      "[Parallel(n_jobs=-1)]: Done 640 tasks      | elapsed:  7.0min\n",
      "[Parallel(n_jobs=-1)]: Done 972 out of 972 | elapsed: 10.6min finished\n"
     ]
    }
   ],
   "source": [
    "rf_params = {'n_estimators' : np.arange(800, 1201, 50), \n",
    "            'max_features' : np.arange(1, 5, 1), \n",
    "            'max_depth' : np.arange(14, 23, 1)}\n",
    "rf_default = RandomForestClassifier(random_state = 123)\n",
    "\n",
    "rf_grid_best_param = mh.performGridSearch(rf_default, x_train_fs, y_train, rf_params)"
   ]
  },
  {
   "cell_type": "code",
   "execution_count": 28,
   "metadata": {},
   "outputs": [
    {
     "data": {
      "text/plain": [
       "{'max_depth': 14, 'max_features': 3, 'n_estimators': 800}"
      ]
     },
     "execution_count": 28,
     "metadata": {},
     "output_type": "execute_result"
    }
   ],
   "source": [
    "rf_grid_best_param"
   ]
  },
  {
   "cell_type": "markdown",
   "metadata": {},
   "source": [
    "#### Cross-validation Scores"
   ]
  },
  {
   "cell_type": "code",
   "execution_count": 36,
   "metadata": {},
   "outputs": [],
   "source": [
    "rf_hyp = RandomForestClassifier(n_estimators = 800, max_features = 3, max_depth = 14, n_jobs = -1, random_state = 123)\n",
    "rf_hyp_CVScores = mh.cvScores(rf_hyp, x_train_fs, y_train, cv = 5)"
   ]
  },
  {
   "cell_type": "code",
   "execution_count": 37,
   "metadata": {},
   "outputs": [
    {
     "data": {
      "text/html": [
       "<div>\n",
       "<style scoped>\n",
       "    .dataframe tbody tr th:only-of-type {\n",
       "        vertical-align: middle;\n",
       "    }\n",
       "\n",
       "    .dataframe tbody tr th {\n",
       "        vertical-align: top;\n",
       "    }\n",
       "\n",
       "    .dataframe thead th {\n",
       "        text-align: right;\n",
       "    }\n",
       "</style>\n",
       "<table border=\"1\" class=\"dataframe\">\n",
       "  <thead>\n",
       "    <tr style=\"text-align: right;\">\n",
       "      <th></th>\n",
       "      <th>CV-Mean</th>\n",
       "      <th>CV-Sd</th>\n",
       "    </tr>\n",
       "  </thead>\n",
       "  <tbody>\n",
       "    <tr>\n",
       "      <th>0</th>\n",
       "      <td>0.75098</td>\n",
       "      <td>0.031979</td>\n",
       "    </tr>\n",
       "  </tbody>\n",
       "</table>\n",
       "</div>"
      ],
      "text/plain": [
       "   CV-Mean     CV-Sd\n",
       "0  0.75098  0.031979"
      ]
     },
     "execution_count": 37,
     "metadata": {},
     "output_type": "execute_result"
    }
   ],
   "source": [
    "rf_hyp_CVScores"
   ]
  },
  {
   "cell_type": "markdown",
   "metadata": {},
   "source": [
    "#### Predictions and Metrics"
   ]
  },
  {
   "cell_type": "code",
   "execution_count": 38,
   "metadata": {},
   "outputs": [],
   "source": [
    "# Fitting model\n",
    "rf_hyp = rf_hyp.fit(x_train_fs, y_train)"
   ]
  },
  {
   "cell_type": "code",
   "execution_count": 39,
   "metadata": {},
   "outputs": [
    {
     "name": "stdout",
     "output_type": "stream",
     "text": [
      "Random Forest accuracy: 0.707763\n",
      "Random Forest kappa: 0.415562\n"
     ]
    }
   ],
   "source": [
    "rf_hyp_Pred, accuracy_rf_hyp, kappa_rf_hyp = mh.classif_predict_metric(rf_hyp, x_test_fs, y_test)\n",
    "print('Random Forest accuracy: %.6f' % accuracy_rf_hyp)\n",
    "print('Random Forest kappa: %.6f' % kappa_rf_hyp)"
   ]
  },
  {
   "cell_type": "markdown",
   "metadata": {},
   "source": [
    "## SVM"
   ]
  },
  {
   "cell_type": "markdown",
   "metadata": {},
   "source": [
    "### Random Search"
   ]
  },
  {
   "cell_type": "code",
   "execution_count": 40,
   "metadata": {},
   "outputs": [
    {
     "name": "stdout",
     "output_type": "stream",
     "text": [
      "Fitting 3 folds for each of 100 candidates, totalling 300 fits\n"
     ]
    },
    {
     "name": "stderr",
     "output_type": "stream",
     "text": [
      "[Parallel(n_jobs=-1)]: Using backend LokyBackend with 4 concurrent workers.\n",
      "[Parallel(n_jobs=-1)]: Done  36 tasks      | elapsed:    3.7s\n",
      "[Parallel(n_jobs=-1)]: Done 300 out of 300 | elapsed:  4.0min finished\n"
     ]
    }
   ],
   "source": [
    "svm_params = {'gamma' : list(10.0**exp for exp in np.arange(-10, 2, 1)), \n",
    "            'C' : np.arange(3, 8, 1), \n",
    "            'kernel' : ['linear', 'rbf', 'sigmoid', 'poly']}\n",
    "svm_default = SVC(gamma = 'auto', random_state = 123)\n",
    "\n",
    "svm_rand_best_param = mh.performRandomSearch(svm_default, x_train_fs_std, y_train, svm_params)"
   ]
  },
  {
   "cell_type": "code",
   "execution_count": 41,
   "metadata": {},
   "outputs": [
    {
     "data": {
      "text/plain": [
       "{'kernel': 'rbf', 'gamma': 0.001, 'C': 7}"
      ]
     },
     "execution_count": 41,
     "metadata": {},
     "output_type": "execute_result"
    }
   ],
   "source": [
    "svm_rand_best_param"
   ]
  },
  {
   "cell_type": "markdown",
   "metadata": {},
   "source": [
    "#### Cross-validation Scores"
   ]
  },
  {
   "cell_type": "code",
   "execution_count": 43,
   "metadata": {},
   "outputs": [],
   "source": [
    "svm_hyp = SVC(gamma = 0.001, C = 7, kernel = 'rbf')\n",
    "svm_hyp_CVScores = mh.cvScores(svm_hyp, x_train_fs_std, y_train, cv = 5)"
   ]
  },
  {
   "cell_type": "code",
   "execution_count": 44,
   "metadata": {},
   "outputs": [
    {
     "data": {
      "text/html": [
       "<div>\n",
       "<style scoped>\n",
       "    .dataframe tbody tr th:only-of-type {\n",
       "        vertical-align: middle;\n",
       "    }\n",
       "\n",
       "    .dataframe tbody tr th {\n",
       "        vertical-align: top;\n",
       "    }\n",
       "\n",
       "    .dataframe thead th {\n",
       "        text-align: right;\n",
       "    }\n",
       "</style>\n",
       "<table border=\"1\" class=\"dataframe\">\n",
       "  <thead>\n",
       "    <tr style=\"text-align: right;\">\n",
       "      <th></th>\n",
       "      <th>CV-Mean</th>\n",
       "      <th>CV-Sd</th>\n",
       "    </tr>\n",
       "  </thead>\n",
       "  <tbody>\n",
       "    <tr>\n",
       "      <th>0</th>\n",
       "      <td>0.745098</td>\n",
       "      <td>0.027028</td>\n",
       "    </tr>\n",
       "  </tbody>\n",
       "</table>\n",
       "</div>"
      ],
      "text/plain": [
       "    CV-Mean     CV-Sd\n",
       "0  0.745098  0.027028"
      ]
     },
     "execution_count": 44,
     "metadata": {},
     "output_type": "execute_result"
    }
   ],
   "source": [
    "svm_hyp_CVScores"
   ]
  },
  {
   "cell_type": "markdown",
   "metadata": {},
   "source": [
    "#### Predictions and Metrics"
   ]
  },
  {
   "cell_type": "code",
   "execution_count": 45,
   "metadata": {},
   "outputs": [],
   "source": [
    "# Fitting model\n",
    "svm_hyp = svm_hyp.fit(x_train_fs_std, y_train)"
   ]
  },
  {
   "cell_type": "code",
   "execution_count": 46,
   "metadata": {},
   "outputs": [
    {
     "name": "stdout",
     "output_type": "stream",
     "text": [
      "SVM Accuracy Score: 0.776256\n",
      "SVM Kappa Score: 0.552782 \n",
      "\n"
     ]
    }
   ],
   "source": [
    "svm_hyp_pred, accuracy_svm_hyp, kappa_svm_hyp = mh.classif_predict_metric(svm_hyp, x_test_fs_std, y_test)\n",
    "\n",
    "print(\"SVM Accuracy Score: %.6f\" % accuracy_svm_hyp)\n",
    "print(\"SVM Kappa Score: %.6f \\n\" % kappa_svm_hyp)"
   ]
  },
  {
   "cell_type": "markdown",
   "metadata": {},
   "source": [
    "### Grid Search"
   ]
  },
  {
   "cell_type": "code",
   "execution_count": 47,
   "metadata": {},
   "outputs": [
    {
     "name": "stdout",
     "output_type": "stream",
     "text": [
      "Fitting 3 folds for each of 144 candidates, totalling 432 fits\n"
     ]
    },
    {
     "name": "stderr",
     "output_type": "stream",
     "text": [
      "[Parallel(n_jobs=-1)]: Using backend LokyBackend with 4 concurrent workers.\n",
      "[Parallel(n_jobs=-1)]: Done 208 tasks      | elapsed:    1.7s\n",
      "[Parallel(n_jobs=-1)]: Done 432 out of 432 | elapsed:   14.8s finished\n"
     ]
    }
   ],
   "source": [
    "svm_params = {'gamma' : list(10.0**exp for exp in np.arange(-5, 1, 1)), \n",
    "            'C' : np.arange(5, 11, 1), \n",
    "            'kernel' : ['linear', 'rbf', 'sigmoid', 'poly']}\n",
    "svm_default = SVC(gamma = 'auto', random_state = 123)\n",
    "\n",
    "svm_grid_best_param = mh.performGridSearch(svm_default, x_train_fs_std, y_train, svm_params)"
   ]
  },
  {
   "cell_type": "code",
   "execution_count": 48,
   "metadata": {},
   "outputs": [
    {
     "data": {
      "text/plain": [
       "{'C': 6, 'gamma': 0.001, 'kernel': 'rbf'}"
      ]
     },
     "execution_count": 48,
     "metadata": {},
     "output_type": "execute_result"
    }
   ],
   "source": [
    "svm_grid_best_param"
   ]
  },
  {
   "cell_type": "markdown",
   "metadata": {},
   "source": [
    "#### Cross-validation Scores"
   ]
  },
  {
   "cell_type": "code",
   "execution_count": 50,
   "metadata": {},
   "outputs": [],
   "source": [
    "svm_hyp = SVC(gamma = 0.001, C = 6, kernel = 'rbf')\n",
    "svm_hyp_CVScores = mh.cvScores(svm_hyp, x_train_fs_std, y_train, cv = 5)"
   ]
  },
  {
   "cell_type": "code",
   "execution_count": 51,
   "metadata": {},
   "outputs": [
    {
     "data": {
      "text/html": [
       "<div>\n",
       "<style scoped>\n",
       "    .dataframe tbody tr th:only-of-type {\n",
       "        vertical-align: middle;\n",
       "    }\n",
       "\n",
       "    .dataframe tbody tr th {\n",
       "        vertical-align: top;\n",
       "    }\n",
       "\n",
       "    .dataframe thead th {\n",
       "        text-align: right;\n",
       "    }\n",
       "</style>\n",
       "<table border=\"1\" class=\"dataframe\">\n",
       "  <thead>\n",
       "    <tr style=\"text-align: right;\">\n",
       "      <th></th>\n",
       "      <th>CV-Mean</th>\n",
       "      <th>CV-Sd</th>\n",
       "    </tr>\n",
       "  </thead>\n",
       "  <tbody>\n",
       "    <tr>\n",
       "      <th>0</th>\n",
       "      <td>0.745098</td>\n",
       "      <td>0.027028</td>\n",
       "    </tr>\n",
       "  </tbody>\n",
       "</table>\n",
       "</div>"
      ],
      "text/plain": [
       "    CV-Mean     CV-Sd\n",
       "0  0.745098  0.027028"
      ]
     },
     "execution_count": 51,
     "metadata": {},
     "output_type": "execute_result"
    }
   ],
   "source": [
    "svm_hyp_CVScores"
   ]
  },
  {
   "cell_type": "markdown",
   "metadata": {},
   "source": [
    "#### Predictions and Metrics"
   ]
  },
  {
   "cell_type": "code",
   "execution_count": 52,
   "metadata": {},
   "outputs": [],
   "source": [
    "# Fitting model\n",
    "svm_hyp = svm_hyp.fit(x_train_fs_std, y_train)"
   ]
  },
  {
   "cell_type": "code",
   "execution_count": 53,
   "metadata": {
    "scrolled": true
   },
   "outputs": [
    {
     "name": "stdout",
     "output_type": "stream",
     "text": [
      "SVM Accuracy Score: 0.771689\n",
      "SVM Kappa Score: 0.543674 \n",
      "\n"
     ]
    }
   ],
   "source": [
    "svm_hyp_pred, accuracy_svm_hyp, kappa_svm_hyp = mh.classif_predict_metric(svm_hyp, x_test_fs_std, y_test)\n",
    "\n",
    "print(\"SVM Accuracy Score: %.6f\" % accuracy_svm_hyp)\n",
    "print(\"SVM Kappa Score: %.6f \\n\" % kappa_svm_hyp)"
   ]
  },
  {
   "cell_type": "markdown",
   "metadata": {},
   "source": [
    "## K-NN"
   ]
  },
  {
   "cell_type": "markdown",
   "metadata": {},
   "source": [
    "### Random Search"
   ]
  },
  {
   "cell_type": "code",
   "execution_count": 54,
   "metadata": {},
   "outputs": [
    {
     "name": "stdout",
     "output_type": "stream",
     "text": [
      "Fitting 3 folds for each of 100 candidates, totalling 300 fits\n"
     ]
    },
    {
     "name": "stderr",
     "output_type": "stream",
     "text": [
      "[Parallel(n_jobs=-1)]: Using backend LokyBackend with 4 concurrent workers.\n",
      "[Parallel(n_jobs=-1)]: Done 136 tasks      | elapsed:    1.0s\n",
      "[Parallel(n_jobs=-1)]: Done 300 out of 300 | elapsed:    1.8s finished\n"
     ]
    }
   ],
   "source": [
    "knn_params = {'n_neighbors' : np.arange(3, 53, 2), \n",
    "             'weights' : ['uniform', 'distance'], \n",
    "             'algorithm' : ['ball_tree', 'kd_tree', 'brute']}\n",
    "knn_default = KNeighborsClassifier()\n",
    "\n",
    "knn_rand_best_param = mh.performRandomSearch(knn_default, x_train_fs_std, y_train, knn_params)"
   ]
  },
  {
   "cell_type": "code",
   "execution_count": 55,
   "metadata": {},
   "outputs": [
    {
     "data": {
      "text/plain": [
       "{'weights': 'uniform', 'n_neighbors': 25, 'algorithm': 'kd_tree'}"
      ]
     },
     "execution_count": 55,
     "metadata": {},
     "output_type": "execute_result"
    }
   ],
   "source": [
    "knn_rand_best_param"
   ]
  },
  {
   "cell_type": "markdown",
   "metadata": {},
   "source": [
    "#### Cross-validation Scores"
   ]
  },
  {
   "cell_type": "code",
   "execution_count": 57,
   "metadata": {},
   "outputs": [],
   "source": [
    "knn_hyp = KNeighborsClassifier(n_neighbors = 25, weights = 'uniform', algorithm = 'kd_tree', n_jobs = -1)\n",
    "knn_hyp_CVScores = mh.cvScores(knn_hyp, x_train_fs_std, y_train, cv = 5)"
   ]
  },
  {
   "cell_type": "code",
   "execution_count": 58,
   "metadata": {
    "scrolled": true
   },
   "outputs": [
    {
     "data": {
      "text/html": [
       "<div>\n",
       "<style scoped>\n",
       "    .dataframe tbody tr th:only-of-type {\n",
       "        vertical-align: middle;\n",
       "    }\n",
       "\n",
       "    .dataframe tbody tr th {\n",
       "        vertical-align: top;\n",
       "    }\n",
       "\n",
       "    .dataframe thead th {\n",
       "        text-align: right;\n",
       "    }\n",
       "</style>\n",
       "<table border=\"1\" class=\"dataframe\">\n",
       "  <thead>\n",
       "    <tr style=\"text-align: right;\">\n",
       "      <th></th>\n",
       "      <th>CV-Mean</th>\n",
       "      <th>CV-Sd</th>\n",
       "    </tr>\n",
       "  </thead>\n",
       "  <tbody>\n",
       "    <tr>\n",
       "      <th>0</th>\n",
       "      <td>0.764706</td>\n",
       "      <td>0.038722</td>\n",
       "    </tr>\n",
       "  </tbody>\n",
       "</table>\n",
       "</div>"
      ],
      "text/plain": [
       "    CV-Mean     CV-Sd\n",
       "0  0.764706  0.038722"
      ]
     },
     "execution_count": 58,
     "metadata": {},
     "output_type": "execute_result"
    }
   ],
   "source": [
    "knn_hyp_CVScores"
   ]
  },
  {
   "cell_type": "markdown",
   "metadata": {},
   "source": [
    "#### Predictions and Metrics"
   ]
  },
  {
   "cell_type": "code",
   "execution_count": 59,
   "metadata": {},
   "outputs": [],
   "source": [
    "# Fitting model\n",
    "knn_hyp = knn_hyp.fit(x_train_fs_std, y_train)"
   ]
  },
  {
   "cell_type": "code",
   "execution_count": 61,
   "metadata": {},
   "outputs": [
    {
     "name": "stdout",
     "output_type": "stream",
     "text": [
      "Random Forest Accuracy Score: 0.748858\n",
      "Random Forest Kappa Score: 0.497811 \n",
      "\n"
     ]
    }
   ],
   "source": [
    "knn_hyp_pred, accuracy_knn_hyp, kappa_knn_hyp = mh.classif_predict_metric(knn_hyp, x_test_fs_std, y_test)\n",
    "\n",
    "print(\"Random Forest Accuracy Score: %.6f\" % accuracy_knn_hyp)\n",
    "print(\"Random Forest Kappa Score: %.6f \\n\" % kappa_knn_hyp)"
   ]
  },
  {
   "cell_type": "markdown",
   "metadata": {},
   "source": [
    "### Grid Search"
   ]
  },
  {
   "cell_type": "code",
   "execution_count": 62,
   "metadata": {},
   "outputs": [
    {
     "name": "stdout",
     "output_type": "stream",
     "text": [
      "Fitting 3 folds for each of 114 candidates, totalling 342 fits\n"
     ]
    },
    {
     "name": "stderr",
     "output_type": "stream",
     "text": [
      "[Parallel(n_jobs=-1)]: Using backend LokyBackend with 4 concurrent workers.\n",
      "[Parallel(n_jobs=-1)]: Done 342 out of 342 | elapsed:    1.9s finished\n"
     ]
    }
   ],
   "source": [
    "knn_params = {'n_neighbors' : np.arange(7, 45, 2), \n",
    "             'weights' : ['uniform', 'distance'], \n",
    "             'algorithm' : ['ball_tree', 'kd_tree', 'brute']}\n",
    "knn_default = KNeighborsClassifier()\n",
    "\n",
    "knn_grid_best_param = mh.performGridSearch(knn_default, x_train_fs_std, y_train, knn_params)"
   ]
  },
  {
   "cell_type": "code",
   "execution_count": 63,
   "metadata": {},
   "outputs": [
    {
     "data": {
      "text/plain": [
       "{'algorithm': 'ball_tree', 'n_neighbors': 11, 'weights': 'uniform'}"
      ]
     },
     "execution_count": 63,
     "metadata": {},
     "output_type": "execute_result"
    }
   ],
   "source": [
    "knn_grid_best_param"
   ]
  },
  {
   "cell_type": "markdown",
   "metadata": {},
   "source": [
    "#### Cross-validation Scores"
   ]
  },
  {
   "cell_type": "code",
   "execution_count": 64,
   "metadata": {},
   "outputs": [],
   "source": [
    "knn_hyp = KNeighborsClassifier(n_neighbors = 11, weights = 'uniform', algorithm = 'ball_tree', n_jobs = -1)\n",
    "knn_hyp_CVScores = mh.cvScores(knn_hyp, x_train_fs_std, y_train, cv = 5)"
   ]
  },
  {
   "cell_type": "code",
   "execution_count": 65,
   "metadata": {},
   "outputs": [
    {
     "data": {
      "text/html": [
       "<div>\n",
       "<style scoped>\n",
       "    .dataframe tbody tr th:only-of-type {\n",
       "        vertical-align: middle;\n",
       "    }\n",
       "\n",
       "    .dataframe tbody tr th {\n",
       "        vertical-align: top;\n",
       "    }\n",
       "\n",
       "    .dataframe thead th {\n",
       "        text-align: right;\n",
       "    }\n",
       "</style>\n",
       "<table border=\"1\" class=\"dataframe\">\n",
       "  <thead>\n",
       "    <tr style=\"text-align: right;\">\n",
       "      <th></th>\n",
       "      <th>CV-Mean</th>\n",
       "      <th>CV-Sd</th>\n",
       "    </tr>\n",
       "  </thead>\n",
       "  <tbody>\n",
       "    <tr>\n",
       "      <th>0</th>\n",
       "      <td>0.758824</td>\n",
       "      <td>0.021118</td>\n",
       "    </tr>\n",
       "  </tbody>\n",
       "</table>\n",
       "</div>"
      ],
      "text/plain": [
       "    CV-Mean     CV-Sd\n",
       "0  0.758824  0.021118"
      ]
     },
     "execution_count": 65,
     "metadata": {},
     "output_type": "execute_result"
    }
   ],
   "source": [
    "knn_hyp_CVScores"
   ]
  },
  {
   "cell_type": "markdown",
   "metadata": {},
   "source": [
    "#### Predictions and Metrics"
   ]
  },
  {
   "cell_type": "code",
   "execution_count": 66,
   "metadata": {},
   "outputs": [],
   "source": [
    "# Fitting model\n",
    "knn_hyp = knn_hyp.fit(x_train_fs_std, y_train)"
   ]
  },
  {
   "cell_type": "code",
   "execution_count": 67,
   "metadata": {},
   "outputs": [
    {
     "name": "stdout",
     "output_type": "stream",
     "text": [
      "Random Forest Accuracy Score: 0.726027\n",
      "Random Forest Kappa Score: 0.452043 \n",
      "\n"
     ]
    }
   ],
   "source": [
    "knn_hyp_pred, accuracy_knn_hyp, kappa_knn_hyp = mh.classif_predict_metric(knn_hyp, x_test_fs_std, y_test)\n",
    "\n",
    "print(\"Random Forest Accuracy Score: %.6f\" % accuracy_knn_hyp)\n",
    "print(\"Random Forest Kappa Score: %.6f \\n\" % kappa_knn_hyp)"
   ]
  },
  {
   "cell_type": "markdown",
   "metadata": {},
   "source": [
    "# Results"
   ]
  },
  {
   "cell_type": "markdown",
   "metadata": {},
   "source": [
    "## Accuracy and Kappa"
   ]
  },
  {
   "cell_type": "code",
   "execution_count": 68,
   "metadata": {},
   "outputs": [
    {
     "data": {
      "text/html": [
       "<div>\n",
       "<style scoped>\n",
       "    .dataframe tbody tr th:only-of-type {\n",
       "        vertical-align: middle;\n",
       "    }\n",
       "\n",
       "    .dataframe tbody tr th {\n",
       "        vertical-align: top;\n",
       "    }\n",
       "\n",
       "    .dataframe thead th {\n",
       "        text-align: right;\n",
       "    }\n",
       "</style>\n",
       "<table border=\"1\" class=\"dataframe\">\n",
       "  <thead>\n",
       "    <tr style=\"text-align: right;\">\n",
       "      <th></th>\n",
       "      <th>Accuracy</th>\n",
       "      <th>Kappa</th>\n",
       "    </tr>\n",
       "  </thead>\n",
       "  <tbody>\n",
       "    <tr>\n",
       "      <th>Random Forest</th>\n",
       "      <td>0.707763</td>\n",
       "      <td>0.415562</td>\n",
       "    </tr>\n",
       "    <tr>\n",
       "      <th>SVM</th>\n",
       "      <td>0.771689</td>\n",
       "      <td>0.543674</td>\n",
       "    </tr>\n",
       "    <tr>\n",
       "      <th>K-NN</th>\n",
       "      <td>0.726027</td>\n",
       "      <td>0.452043</td>\n",
       "    </tr>\n",
       "  </tbody>\n",
       "</table>\n",
       "</div>"
      ],
      "text/plain": [
       "               Accuracy     Kappa\n",
       "Random Forest  0.707763  0.415562\n",
       "SVM            0.771689  0.543674\n",
       "K-NN           0.726027  0.452043"
      ]
     },
     "execution_count": 68,
     "metadata": {},
     "output_type": "execute_result"
    }
   ],
   "source": [
    "accuracy = [accuracy_rf_hyp, accuracy_svm_hyp, accuracy_knn_hyp]\n",
    "kappa = [kappa_rf_hyp, kappa_svm_hyp, kappa_knn_hyp]\n",
    "algorithm = ['Random Forest', 'SVM', 'K-NN']\n",
    "\n",
    "results = pd.DataFrame({'Accuracy' : accuracy, 'Kappa' : kappa}, index = algorithm)\n",
    "results"
   ]
  },
  {
   "cell_type": "markdown",
   "metadata": {},
   "source": [
    "As we can see, the SVM performed the best accuracy (77.17%) and kappa value (0.5437)"
   ]
  },
  {
   "cell_type": "markdown",
   "metadata": {},
   "source": [
    "## Confusion Matrix"
   ]
  },
  {
   "cell_type": "markdown",
   "metadata": {},
   "source": [
    "To analyze the false-positives and false-negatives, the confusion matrix for each algorithm was calculated."
   ]
  },
  {
   "cell_type": "code",
   "execution_count": 74,
   "metadata": {
    "scrolled": false
   },
   "outputs": [
    {
     "data": {
      "image/png": "[encoded data removed]",
      "text/plain": [
       "<Figure size 1080x288 with 6 Axes>"
      ]
     },
     "metadata": {
      "needs_background": "light"
     },
     "output_type": "display_data"
    }
   ],
   "source": [
    "confusionMatrix_rf = confusion_matrix(y_test, rf_hyp_Pred)\n",
    "confusionMatrix_svm = confusion_matrix(y_test, svm_hyp_pred)\n",
    "confusionMatrix_knn = confusion_matrix(y_test, knn_hyp_pred)\n",
    "\n",
    "fig, ax = plt.subplots(1, 3)\n",
    "\n",
    "# labels and title\n",
    "sns.heatmap(confusionMatrix_rf, annot = True, ax = ax[0], fmt = 'g');\n",
    "ax[0].set_xlabel('Predicted labels');\n",
    "ax[0].set_ylabel('True labels'); \n",
    "ax[0].set_title('Random Forest Confusion Matrix');\n",
    "\n",
    "sns.heatmap(confusionMatrix_svm, annot = True, ax = ax[1], fmt = 'g');\n",
    "ax[1].set_xlabel('Predicted labels');\n",
    "ax[1].set_ylabel('True labels'); \n",
    "ax[1].set_title('SVM Confusion Matrix');\n",
    "\n",
    "sns.heatmap(confusionMatrix_knn, annot = True, ax = ax[2], fmt = 'g');\n",
    "ax[2].set_xlabel('Predicted labels');\n",
    "ax[2].set_ylabel('True labels'); \n",
    "ax[2].set_title('K-NN Confusion Matrix');\n",
    "\n",
    "fig.set_figwidth(15)\n",
    "\n",
    "plt.subplots_adjust(wspace = 0.2)\n",
    "plt.show()"
   ]
  },
  {
   "cell_type": "markdown",
   "metadata": {},
   "source": [
    "Again, the SVM held the best metrics. Only in the false-positive metric SVM loses to K-NN algorithm. However, not by far."
   ]
  },
  {
   "cell_type": "markdown",
   "metadata": {},
   "source": [
    "# Conclusions"
   ]
  },
  {
   "cell_type": "markdown",
   "metadata": {},
   "source": [
    "This report has shown that it is possible to predict with at least 77.17% accuracy if a courier is going to churn or not in the following 3 weeks. Since the data set has half of the couriers in each group, it is an improvement comparing to a chance (as we can see in the kappa value).\n",
    "\n",
    "The company can use this classification model to try to classify each courier will churn in a churn window of interest. By doing this, the company can start a market campaign targeting those who are most likely to churn in order to increase the city fleet, if that's the goal. If the company do so, using the SVM algorithm for this scenario, only 17 couriers that churned would not receive the marketing campaign (checking the confusion matrix above).\n",
    "\n",
    "Along with the predictions, an exploratory analysis can be used to try to decrease the error rate. Checking the distributions of the couriers where the machine-learn model missed classification, we can learn where the model tends to do an error and fix it manually. This kind of analysis can be studied in future work."
   ]
  }
 ],
 "metadata": {
  "kernelspec": {
   "display_name": "Python 3",
   "language": "python",
   "name": "python3"
  },
  "language_info": {
   "codemirror_mode": {
    "name": "ipython",
    "version": 3
   },
   "file_extension": ".py",
   "mimetype": "text/x-python",
   "name": "python",
   "nbconvert_exporter": "python",
   "pygments_lexer": "ipython3",
   "version": "3.6.8"
  }
 },
 "nbformat": 4,
 "nbformat_minor": 2
}
